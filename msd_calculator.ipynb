{
 "cells": [
  {
   "cell_type": "code",
   "execution_count": 2,
   "metadata": {},
   "outputs": [],
   "source": [
    "# Standard MSD calculation\n",
    "#\n",
    "# --TO DO--\n",
    "#\n",
    "# 1) iterate over every particle\n",
    "# 2) move code to new notebook because it is not plotting within this notebook for some reason\n",
    "# 3) \n",
    "import numpy as np\n",
    "import pandas as pd\n",
    "import matplotlib.pyplot as plt\n",
    "\n",
    "# make a list \n",
    "loc_file = ('/Users/joshtitlow/tmp/MS2/localisations.csv')\n",
    "\n",
    "locs = pd.read_csv(loc_file, header=0)\n",
    "r = np.array(zip(locs['x'],locs['y']))\n",
    "\n",
    "tau = 0.75\n",
    "\n",
    "def compute_MSD(path):\n",
    "    totalsize=len(path)\n",
    "    msd=[]\n",
    "    for i in range(totalsize-1):\n",
    "        j=i+1\n",
    "        msd.append(np.sum((path[0:-j]-path[j::])**2)/float(totalsize-j))\n",
    "\n",
    "    msd=np.array(msd)\n",
    "    \n",
    "    return msd\n",
    "msd = compute_MSD(r)\n",
    "\n",
    "length = len(r)\n",
    "ts = np.arange(0, length, tau)\n",
    "\n",
    "# plot the raw data and filtered data\n",
    "#plt.plot(ts, msd, logx=True, logy=True, color=\"black\")\n",
    "#plt.ylabel('MSD (um)')\n",
    "#plt.ylim((260,295))\n",
    "#plt.xlabel('tau (s)')\n",
    "#plt.xlim((9,17))\n",
    "#plt.show()"
   ]
  },
  {
   "cell_type": "code",
   "execution_count": 69,
   "metadata": {},
   "outputs": [
    {
     "data": {
      "text/plain": [
       "array([-1.13686838e-13,  2.94566211e-02,  2.64564341e-02,  2.85698020e-02,\n",
       "        2.80860735e-02,  3.28524733e-02,  3.55614447e-02,  2.46328840e-02,\n",
       "        3.02002360e-02,  3.06569216e-02,  2.84127256e-02,  2.94954506e-02,\n",
       "        3.16870307e-02,  2.97675213e-02,  3.36693261e-02,  2.99943201e-02,\n",
       "        2.89420322e-02,  2.98228538e-02,  3.40385336e-02,  2.94449656e-02,\n",
       "        2.63939492e-02,  3.26087431e-02,  3.65311045e-02,  1.56268532e-02,\n",
       "        2.90142425e-02,  2.40640750e-02,  3.03774321e-02,  3.05854398e-02,\n",
       "        3.30187173e-02,  3.68622867e-02,  1.91820227e-02,  3.90315177e-02,\n",
       "        2.57191878e-02,  2.83870380e-02,  2.61547167e-02,  4.51212999e-02,\n",
       "        4.61340075e-02,  5.21126007e-02,  8.06594209e-02])"
      ]
     },
     "execution_count": 69,
     "metadata": {},
     "output_type": "execute_result"
    }
   ],
   "source": [
    "# Calculate MSD with FFT\n",
    "# from: https://stackoverflow.com/questions/34222272/computing-mean-square-displacement-using-python-and-fft\n",
    "\n",
    "import numpy as np\n",
    "\n",
    "def autocorrFFT(x):\n",
    "    N=len(x)\n",
    "    F = np.fft.fft(x, n=2*N)  #2*N because of zero-padding\n",
    "    PSD = F * F.conjugate()\n",
    "    res = np.fft.ifft(PSD)\n",
    "    res= (res[:N]).real   #now we have the autocorrelation in convention B\n",
    "    n=N*np.ones(N)-np.arange(0,N) #divide res(m) by (N-m)\n",
    "    return res/n #this is the autocorrelation in convention A\n",
    "\n",
    "def msd_fft(r):\n",
    "    N=len(r)\n",
    "    D=np.square(r).sum(axis=1) \n",
    "    D=np.append(D,0) \n",
    "    S2=sum([autocorrFFT(r[:, i]) for i in range(r.shape[1])])\n",
    "    Q=2*D.sum()\n",
    "    S1=np.zeros(N)\n",
    "    for m in range(N):\n",
    "        Q=Q-D[m-1]-D[N-m]\n",
    "        S1[m]=Q/(N-m)\n",
    "    return S1-2*S2\n",
    "\n",
    "msd_fft(r) # r is a single column numpy array with x,y coordinates\n"
   ]
  },
  {
   "cell_type": "code",
   "execution_count": 1,
   "metadata": {},
   "outputs": [
    {
     "ename": "NameError",
     "evalue": "name 'r' is not defined",
     "output_type": "error",
     "traceback": [
      "\u001b[0;31m---------------------------------------------------------------------------\u001b[0m",
      "\u001b[0;31mNameError\u001b[0m                                 Traceback (most recent call last)",
      "\u001b[0;32m<ipython-input-1-2551b59e1083>\u001b[0m in \u001b[0;36m<module>\u001b[0;34m()\u001b[0m\n\u001b[1;32m     10\u001b[0m     \u001b[0;32mreturn\u001b[0m \u001b[0mmsds\u001b[0m\u001b[0;34m\u001b[0m\u001b[0m\n\u001b[1;32m     11\u001b[0m \u001b[0;34m\u001b[0m\u001b[0m\n\u001b[0;32m---> 12\u001b[0;31m \u001b[0mmsd_straight_forward\u001b[0m\u001b[0;34m(\u001b[0m\u001b[0mr\u001b[0m\u001b[0;34m)\u001b[0m\u001b[0;34m\u001b[0m\u001b[0m\n\u001b[0m",
      "\u001b[0;31mNameError\u001b[0m: name 'r' is not defined"
     ]
    }
   ],
   "source": [
    "# Another standard MSD calculation\n",
    "# from: https://stackoverflow.com/questions/26472653/computing-the-mean-square-displacement-of-a-2d-random-walk-in-python\n",
    "\n",
    "def msd_straight_forward(r):\n",
    "    shifts = np.arange(len(r))\n",
    "    msds = np.zeros(shifts.size)    \n",
    "\n",
    "    for i, shift in enumerate(shifts):\n",
    "        diffs = r[:-shift if shift else None] - r[shift:]\n",
    "        sqdist = np.square(diffs).sum(axis=1)\n",
    "        msds[i] = sqdist.mean()\n",
    "\n",
    "    return msds\n",
    "\n",
    "msd_straight_forward(r)"
   ]
  },
  {
   "cell_type": "code",
   "execution_count": null,
   "metadata": {},
   "outputs": [],
   "source": [
    "import matplotlib.pyplot as plt\n",
    "%matplotlib inline\n",
    "plt.plot(ts, msd, color=\"black\")\n",
    "\n",
    "plt.show()"
   ]
  },
  {
   "cell_type": "code",
   "execution_count": null,
   "metadata": {},
   "outputs": [],
   "source": [
    "import matplotlib.pyplot as plt\n",
    "print ('imported')\n",
    "#%matplotlib inline\n",
    "print ('inline')\n",
    "plt.plot([1,2,3,4])\n",
    "print ('plt.plot([1,2,3,4])')\n",
    "plt.ylabel('some numbers')\n",
    "plt.show()"
   ]
  },
  {
   "cell_type": "code",
   "execution_count": 2,
   "metadata": {},
   "outputs": [],
   "source": [
    "import matplotlib.pyplot as plt"
   ]
  },
  {
   "cell_type": "code",
   "execution_count": null,
   "metadata": {},
   "outputs": [],
   "source": [
    "plt.plot([1,2,3,4])"
   ]
  },
  {
   "cell_type": "code",
   "execution_count": 13,
   "metadata": {},
   "outputs": [
    {
     "name": "stdout",
     "output_type": "stream",
     "text": [
      "14.889029999999998 5.48954\n",
      "14.92689 5.4804699999999995\n",
      "14.8597 5.4205\n",
      "14.908079999999998 5.5648800000000005\n",
      "14.979820000000002 5.451980000000001\n",
      "15.02955 5.599880000000001\n",
      "14.86019 5.40367\n",
      "14.858379999999999 5.51656\n",
      "14.95346 5.51288\n",
      "14.843 5.42922\n",
      "14.953389999999999 5.19764\n",
      "14.88764 5.45991\n",
      "15.067260000000001 5.49512\n",
      "15.014470000000001 5.3878\n",
      "15.027000000000001 5.401619999999999\n",
      "15.001170000000002 5.639390000000001\n",
      "14.83866 5.46935\n",
      "14.910179999999999 5.31787\n",
      "14.821860000000001 5.54605\n",
      "14.848529999999998 5.45328\n",
      "14.873 5.56\n",
      "14.919989999999999 5.4028\n",
      "14.921479999999999 5.42256\n",
      "14.973429999999999 5.4929\n",
      "14.98926 5.49751\n",
      "14.80459 5.57101\n",
      "14.813579999999998 5.53377\n",
      "14.895 5.4244699999999995\n",
      "14.941820000000002 5.60375\n",
      "14.87386 5.33835\n",
      "14.874039999999999 5.43047\n",
      "14.95241 5.509530000000001\n",
      "14.836739999999999 5.48585\n",
      "15.02963 5.479019999999999\n",
      "14.82245 5.390280000000001\n",
      "15.0868 5.5660300000000005\n",
      "14.89996 5.4370199999999995\n",
      "15.09625 5.49261\n",
      "15.171679999999999 5.51726\n",
      "no\n",
      "no\n",
      "no\n",
      "no\n",
      "no\n",
      "no\n",
      "no\n",
      "no\n",
      "no\n",
      "no\n",
      "no\n",
      "no\n",
      "no\n",
      "no\n",
      "no\n",
      "no\n",
      "no\n",
      "no\n",
      "no\n",
      "no\n",
      "no\n",
      "no\n",
      "no\n",
      "no\n",
      "no\n",
      "no\n",
      "no\n",
      "no\n",
      "no\n",
      "no\n",
      "no\n"
     ]
    }
   ],
   "source": [
    "import numpy as np\n",
    "import pandas as pd\n",
    "import matplotlib.pyplot as plt\n",
    "\n",
    "# make a list \n",
    "loc_file = ('/Users/joshtitlow/tmp/MS2/localisations.csv')\n",
    "\n",
    "locs = pd.read_csv(loc_file, header=0)\n",
    "\n",
    "i = 1\n",
    "\n",
    "for index, row in locs.iterrows():\n",
    "    mol_name =\n",
    "    if row['number'] == i:\n",
    "        print row['x'], row['y']\n",
    "    else:\n",
    "        print 'no'"
   ]
  },
  {
   "cell_type": "code",
   "execution_count": 26,
   "metadata": {},
   "outputs": [
    {
     "data": {
      "text/plain": [
       "'msd_1'"
      ]
     },
     "execution_count": 26,
     "metadata": {},
     "output_type": "execute_result"
    }
   ],
   "source": [
    "name = ('msd_'+str(i))\n",
    "name"
   ]
  },
  {
   "cell_type": "code",
   "execution_count": null,
   "metadata": {},
   "outputs": [],
   "source": []
  }
 ],
 "metadata": {
  "kernelspec": {
   "display_name": "Python [conda env:anaconda]",
   "language": "python",
   "name": "conda-env-anaconda-py"
  },
  "language_info": {
   "codemirror_mode": {
    "name": "ipython",
    "version": 2
   },
   "file_extension": ".py",
   "mimetype": "text/x-python",
   "name": "python",
   "nbconvert_exporter": "python",
   "pygments_lexer": "ipython2",
   "version": "2.7.3"
  }
 },
 "nbformat": 4,
 "nbformat_minor": 2
}
