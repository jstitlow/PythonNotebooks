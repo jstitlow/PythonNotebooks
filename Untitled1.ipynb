{
 "cells": [
  {
   "cell_type": "code",
   "execution_count": 1,
   "metadata": {},
   "outputs": [
    {
     "ename": "ImportError",
     "evalue": "No module named omero",
     "output_type": "error",
     "traceback": [
      "\u001b[0;31m---------------------------------------------------------------------------\u001b[0m",
      "\u001b[0;31mImportError\u001b[0m                               Traceback (most recent call last)",
      "\u001b[0;32m<ipython-input-1-226b19d1d419>\u001b[0m in \u001b[0;36m<module>\u001b[0;34m()\u001b[0m\n\u001b[0;32m----> 1\u001b[0;31m \u001b[0;32mimport\u001b[0m \u001b[0momero\u001b[0m\u001b[0;34m\u001b[0m\u001b[0m\n\u001b[0m\u001b[1;32m      2\u001b[0m \u001b[0;32mfrom\u001b[0m \u001b[0mOMERO_code\u001b[0m \u001b[0;32mimport\u001b[0m \u001b[0momero_tools\u001b[0m\u001b[0;34m\u001b[0m\u001b[0m\n\u001b[1;32m      3\u001b[0m \u001b[0;32mimport\u001b[0m \u001b[0mos\u001b[0m\u001b[0;34m\u001b[0m\u001b[0m\n\u001b[1;32m      4\u001b[0m \u001b[0;32mimport\u001b[0m \u001b[0msys\u001b[0m\u001b[0;34m\u001b[0m\u001b[0m\n\u001b[1;32m      5\u001b[0m \u001b[0;32mimport\u001b[0m \u001b[0mjson\u001b[0m\u001b[0;34m\u001b[0m\u001b[0m\n",
      "\u001b[0;31mImportError\u001b[0m: No module named omero"
     ]
    }
   ],
   "source": [
    "import omero\n",
    "from OMERO_code import omero_tools\n",
    "import os\n",
    "import sys\n",
    "import json\n",
    "from collections import OrderedDict\n",
    "\n",
    "# connect to OMERO\n",
    "conn = omero_tools.get_connection()\n",
    "conn.SERVICE_OPTS.setOmeroGroup(omero_tools.project_gid)\n",
    "\n",
    "# helper function to parse OMERO datasets\n",
    "def print_obj(obj, indent=0):\n",
    "    \"\"\"\n",
    "    Helper method to display info about OMERO objects.\n",
    "    Not all objects will have a \"name\" or owner field.\n",
    "    \"\"\"\n",
    "    print \"\"\"%s%s:%s  Name:\"%s\" (owner=%s)\"\"\" % (\n",
    "        \" \" * indent,\n",
    "        obj.OMERO_CLASS,\n",
    "        obj.getId(),\n",
    "        obj.getName(),\n",
    "        obj.getOwnerOmeName())\n",
    "\n",
    "# get datasetname (need to make datasetid an argument)\n",
    "dataset_id = 17759\n",
    "dataset = conn.getObject(\"Dataset\", dataset_id)\n",
    "dataset_name = dataset.getName()\n",
    "\n",
    "# Pixels and Channels will be loaded automatically as needed\n",
    "image = conn.getObject(\"Image\", imageId)\n",
    "print image.getName(), image.getDescription()\n",
    "\n",
    "# List Channels (loads the Rendering settings to get channel colors)\n",
    "for channel in image.getChannels():\n",
    "    print 'Channel:', channel.getLabel(),\n",
    "    print 'Color:', channel.getColor().getRGB()\n",
    "    print 'Lookup table:', channel.getLut()\n",
    "    print 'Is reverse intensity?', channel.isReverseIntensity()"
   ]
  },
  {
   "cell_type": "code",
   "execution_count": null,
   "metadata": {},
   "outputs": [],
   "source": []
  }
 ],
 "metadata": {
  "kernelspec": {
   "display_name": "Python [conda root]",
   "language": "python",
   "name": "conda-root-py"
  },
  "language_info": {
   "codemirror_mode": {
    "name": "ipython",
    "version": 2
   },
   "file_extension": ".py",
   "mimetype": "text/x-python",
   "name": "python",
   "nbconvert_exporter": "python",
   "pygments_lexer": "ipython2",
   "version": "2.7.3"
  }
 },
 "nbformat": 4,
 "nbformat_minor": 2
}
