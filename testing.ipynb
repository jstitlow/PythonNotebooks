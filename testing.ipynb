{
 "cells": [
  {
   "cell_type": "code",
   "execution_count": 3,
   "metadata": {},
   "outputs": [
    {
     "name": "stdout",
     "output_type": "stream",
     "text": [
      "usage: chromagnon target1 target2 -R reference1 reference2 [options]\n",
      "\n",
      "Chromagnon is an adaptive channel alignment program for fluorescnece\n",
      "microscope images. If no image file is supplied, a GUI will open to feed\n",
      "multiple files. If you supply image file, the program starts as a console\n",
      "program. When you have mutiple reference files, do like the 'usage':\n",
      "\n",
      "positional arguments:\n",
      "  targets               target images files\n",
      "\n",
      "optional arguments:\n",
      "  -h, --help            show this help message and exit\n",
      "  --version, -v         show program's version number and exit\n",
      "  --reference [REFERENCE [REFERENCE ...]], -R [REFERENCE [REFERENCE ...]]\n",
      "                        reference image or chromagnon files (required)\n",
      "  --local {None,Projection}, -l {None,Projection}\n",
      "                        choose from ['None', 'Projection'] (default=None)\n",
      "  --localMinWindow {30,60,120,240}, -w {30,60,120,240}\n",
      "                        choose from ['30', '60', '120', '240'] (default=60)\n",
      "  --maxShift MAXSHIFT, -s MAXSHIFT\n",
      "                        maximum um possibily misaligned in your system\n",
      "                        (default=5.00 um)\n",
      "  --not_crop_mergins, -c\n",
      "                        crop mergins after alignment (default=False; do crop\n",
      "                        mergins)\n",
      "  --average_references, -a\n",
      "                        average reference image (default=False)\n",
      "  --parm_suffix PARM_SUFFIX, -P PARM_SUFFIX\n",
      "                        suffix for the chromagnon files (default=None)\n",
      "  --img_suffix IMG_SUFFIX, -S IMG_SUFFIX\n",
      "                        suffix for the target files (default=_ALN)\n",
      "  --img_format {tif,dv,ome.tif}, -E {tif,dv,ome.tif}\n",
      "                        file extension for the target files, choose from\n",
      "                        ['tif', 'dv', 'ome.tif'] (default=tif)\n",
      "\n"
     ]
    }
   ],
   "source": [
    "from subprocess import Popen, PIPE\n",
    "\n",
    "#targ_file = '/Volumes/bioc1301/data/20190221_NMJ_culture_sggYFP_stability/aligned/20190221_sggYFP_24hr_culture_intact_p1s3l.tif'\n",
    "#ref_file = '/Volumes/bioc1301/data/20190221_NMJ_culture_sggYFP_stability/aligned/20190221_sggYFP_24hr_culture_intact_p1s3l_calibration.tif'\n",
    "#process = Popen(['chromagnon', 'targ_file', '-R', 'ref_file', '-E', 'dv'], stdout=PIPE, stderr=PIPE)\n",
    "process = Popen(['chromagnon', '-h'], stdout=PIPE, stderr=PIPE)\n",
    "stdout, stderr = process.communicate()\n",
    "print stdout"
   ]
  },
  {
   "cell_type": "code",
   "execution_count": 3,
   "metadata": {},
   "outputs": [
    {
     "ename": "IOError",
     "evalue": "[Errno 2] No such file or directory: '-f'",
     "output_type": "error",
     "traceback": [
      "\u001b[0;31m---------------------------------------------------------------------------\u001b[0m",
      "\u001b[0;31mIOError\u001b[0m                                   Traceback (most recent call last)",
      "\u001b[0;32m<ipython-input-3-6950545f90f9>\u001b[0m in \u001b[0;36m<module>\u001b[0;34m()\u001b[0m\n\u001b[1;32m    133\u001b[0m \u001b[0;34m\u001b[0m\u001b[0m\n\u001b[1;32m    134\u001b[0m     \u001b[0mquestions_fpath\u001b[0m \u001b[0;34m=\u001b[0m \u001b[0msys\u001b[0m\u001b[0;34m.\u001b[0m\u001b[0margv\u001b[0m\u001b[0;34m[\u001b[0m\u001b[0;36m1\u001b[0m\u001b[0;34m]\u001b[0m\u001b[0;34m\u001b[0m\u001b[0m\n\u001b[0;32m--> 135\u001b[0;31m     \u001b[0mquestions\u001b[0m \u001b[0;34m=\u001b[0m \u001b[0;34m[\u001b[0m\u001b[0ml\u001b[0m\u001b[0;34m.\u001b[0m\u001b[0mstrip\u001b[0m\u001b[0;34m(\u001b[0m\u001b[0;34m)\u001b[0m \u001b[0;32mfor\u001b[0m \u001b[0ml\u001b[0m \u001b[0;32min\u001b[0m \u001b[0mopen\u001b[0m\u001b[0;34m(\u001b[0m\u001b[0mquestions_fpath\u001b[0m\u001b[0;34m,\u001b[0m \u001b[0;34m'r'\u001b[0m\u001b[0;34m)\u001b[0m\u001b[0;34m.\u001b[0m\u001b[0mreadlines\u001b[0m\u001b[0;34m(\u001b[0m\u001b[0;34m)\u001b[0m\u001b[0;34m]\u001b[0m\u001b[0;34m\u001b[0m\u001b[0m\n\u001b[0m\u001b[1;32m    136\u001b[0m \u001b[0;34m\u001b[0m\u001b[0m\n\u001b[1;32m    137\u001b[0m     \u001b[0manswers_dir\u001b[0m \u001b[0;34m=\u001b[0m \u001b[0msys\u001b[0m\u001b[0;34m.\u001b[0m\u001b[0margv\u001b[0m\u001b[0;34m[\u001b[0m\u001b[0;36m2\u001b[0m\u001b[0;34m]\u001b[0m\u001b[0;34m\u001b[0m\u001b[0m\n",
      "\u001b[0;31mIOError\u001b[0m: [Errno 2] No such file or directory: '-f'"
     ]
    }
   ],
   "source": [
    "#!/usr/bin/env python\n",
    "# -*- coding: utf-8 -*-\n",
    "\n",
    "## Copyright (C) 2018 David Pinto <david.pinto@bioch.ox.ac.uk>\n",
    "##\n",
    "## This program is free software: you can redistribute it and/or modify\n",
    "## it under the terms of the GNU General Public License as published by\n",
    "## the Free Software Foundation, either version 3 of the License, or\n",
    "## (at your option) any later version.\n",
    "##\n",
    "## This program is distributed in the hope that it will be useful,\n",
    "## but WITHOUT ANY WARRANTY; without even the implied warranty of\n",
    "## MERCHANTABILITY or FITNESS FOR A PARTICULAR PURPOSE.  See the\n",
    "## GNU General Public License for more details.\n",
    "##\n",
    "## You should have received a copy of the GNU General Public License\n",
    "## along with this program.  If not, see <http://www.gnu.org/licenses/>.\n",
    "\n",
    "import os.path\n",
    "import pickle\n",
    "import subprocess\n",
    "import sys\n",
    "\n",
    "from PyQt5 import QtWidgets\n",
    "\n",
    "\n",
    "LABELS = ('yes', 'no', 'unsure')\n",
    "DEFAULT_LABEL = 'unsure'\n",
    "\n",
    "class Questionnaire(QtWidgets.QWidget):\n",
    "    default_label_idx = LABELS.index(DEFAULT_LABEL)\n",
    "\n",
    "    def __init__(self, questions, *args, **kwargs):\n",
    "        super(Questionnaire, self).__init__(*args, **kwargs)\n",
    "        self.questions = questions\n",
    "        self.answers = [None] * len(questions)\n",
    "        self.set_ui()\n",
    "\n",
    "    def set_ui(self):\n",
    "        grid_box = QtWidgets.QGroupBox()\n",
    "        grid = QtWidgets.QGridLayout()\n",
    "\n",
    "        ## Header\n",
    "        for i, label in enumerate(LABELS):\n",
    "            grid.addWidget(QtWidgets.QLabel(label), 0, i+1)\n",
    "\n",
    "        ## Questions/Answers\n",
    "        for i, question in enumerate(self.questions):\n",
    "            grid.addWidget(QtWidgets.QLabel(question), i+1, 0)\n",
    "\n",
    "            self.answers[i] = QtWidgets.QButtonGroup(parent=self)\n",
    "            for j in range(len(LABELS)):\n",
    "                button = QtWidgets.QRadioButton(parent=self)\n",
    "                if j == Questionnaire.default_label_idx:\n",
    "                    button.setChecked(True)\n",
    "                ## Manually set id with the index for labels list.\n",
    "                self.answers[i].addButton(button, id=j)\n",
    "                grid.addWidget(button, i+1 , j+1)\n",
    "\n",
    "        self.setLayout(grid)\n",
    "\n",
    "    def to_serializable(self):\n",
    "        results = dict()\n",
    "        for question, answer in zip(self.questions, self.answers):\n",
    "            results[question] = LABELS[answer.checkedId()]\n",
    "        return results\n",
    "\n",
    "    def reset(self):\n",
    "        for answer in self.answers:\n",
    "            answer.button(Questionnaire.default_label_idx).setChecked(True)\n",
    "\n",
    "\n",
    "class QuestionWindow(QtWidgets.QWidget):\n",
    "    def __init__(self, questions, answers_dir, img_fpaths,\n",
    "                 *args, **kwargs):\n",
    "        super(QuestionWindow, self).__init__(*args, **kwargs)\n",
    "        self.setWindowTitle('Blind Questions')\n",
    "\n",
    "        self.answers_dir = answers_dir\n",
    "        self.img_fpaths = img_fpaths\n",
    "        self.current_img = 0\n",
    "\n",
    "        if len(img_fpaths) < 1:\n",
    "            raise RuntimeError('no images to question')\n",
    "\n",
    "        open_button = QtWidgets.QPushButton('Open in Viewer', parent=self)\n",
    "        open_button.clicked.connect(self.open_image)\n",
    "\n",
    "        self.questionnaire = Questionnaire(questions, parent=self)\n",
    "\n",
    "        save_button = QtWidgets.QPushButton('save and next', parent=self)\n",
    "        save_button.clicked.connect(self.save_and_next)\n",
    "\n",
    "        layout = QtWidgets.QVBoxLayout()\n",
    "        layout.addWidget(open_button)\n",
    "        layout.addWidget(self.questionnaire)\n",
    "        layout.addWidget(save_button)\n",
    "        self.setLayout(layout)\n",
    "\n",
    "    def open_image(self):\n",
    "        fig_file = self.img_fpaths[self.current_img]\n",
    "        args = ['xdg-open', fig_file]\n",
    "        status = subprocess.call(args, shell=False)\n",
    "        if status != 0:\n",
    "            error_dialog = QtWidgets.QErrorMessage(parent=self)\n",
    "            error_dialog.setModal(True)\n",
    "            error_dialog.showMessage(\"failed to call %s\" % args)\n",
    "\n",
    "    def save_and_next(self):\n",
    "        fig_file = self.img_fpaths[self.current_img]\n",
    "        fname = os.path.splitext(os.path.basename(fig_file))[0]\n",
    "        fpath = os.path.join(self.answers_dir, fname + '.pickle')\n",
    "        if os.path.exists(fpath):\n",
    "            raise RuntimeError('file already exists, do not overwrite results')\n",
    "        with open(fpath, 'wb') as fh:\n",
    "            pickle.dump(self.questionnaire.to_serializable(), fh)\n",
    "\n",
    "        self.next_image()\n",
    "\n",
    "    def next_image(self):\n",
    "        self.questionnaire.reset()\n",
    "        self.current_img +=1\n",
    "        if not self.current_img < len(self.img_fpaths):\n",
    "            error_dialog = QtWidgets.QErrorMessage(parent=self)\n",
    "            error_dialog.setModal(True)\n",
    "            error_dialog.showMessage(\"This is the end.\")\n",
    "            error_dialog.exec_()\n",
    "            QtWidgets.qApp.quit()\n",
    "\n",
    "\n",
    "if __name__ == '__main__':\n",
    "    app = QtWidgets.QApplication(sys.argv)\n",
    "\n",
    "    questions_fpath = sys.argv[1]\n",
    "    questions = [l.strip() for l in open(questions_fpath, 'r').readlines()]\n",
    "\n",
    "    answers_dir = sys.argv[2]\n",
    "\n",
    "    img_fpaths = sys.argv[3:]\n",
    "\n",
    "    window = QuestionWindow(questions, answers_dir, img_fpaths)\n",
    "    window.show()\n",
    "    sys.exit(app.exec_())\n"
   ]
  },
  {
   "cell_type": "code",
   "execution_count": null,
   "metadata": {},
   "outputs": [],
   "source": [
    "    def open_image(self):\n",
    "        fig_file = self.img_fpaths[self.current_img]\n",
    "        args = ['xdg-open', fig_file]\n",
    "        status = subprocess.call(args, shell=False)\n",
    "        if status != 0:\n",
    "            error_dialog = QtWidgets.QErrorMessage(parent=self)\n",
    "            error_dialog.setModal(True)\n",
    "            error_dialog.showMessage(\"failed to call %s\" % args)"
   ]
  },
  {
   "cell_type": "code",
   "execution_count": 2,
   "metadata": {},
   "outputs": [
    {
     "name": "stdout",
     "output_type": "stream",
     "text": [
      "Vendor:  continuum\n",
      "Product: anaconda\n",
      "Message: trial mode expires in 20 days\n",
      "//anaconda/lib/python2.7/site-packages/cryptography/hazmat/primitives/constant_time.py:26: CryptographyDeprecationWarning: Support for your Python version is deprecated. The next version of cryptography will remove support. Please upgrade to a 2.7.x release that supports hmac.compare_digest as soon as possible.\n",
      "  utils.DeprecatedIn23,\n",
      "Collecting package metadata: done\n",
      "Solving environment: done\n",
      "\n",
      "\n",
      "==> WARNING: A newer version of conda exists. <==\n",
      "  current version: 4.6.2\n",
      "  latest version: 4.6.14\n",
      "\n",
      "Please update conda by running\n",
      "\n",
      "    $ conda update -n base conda\n",
      "\n",
      "\n",
      "\n",
      "## Package Plan ##\n",
      "\n",
      "  environment location: //anaconda/envs/chromagnon\n",
      "\n",
      "  added / updated specs:\n",
      "    - pyqt\n",
      "\n",
      "\n",
      "The following packages will be downloaded:\n",
      "\n",
      "    package                    |            build\n",
      "    ---------------------------|-----------------\n",
      "    dbus-1.13.6                |       h2f22bb5_0         558 KB  conda-forge\n",
      "    glib-2.58.3                |    h2836805_1001         3.1 MB  conda-forge\n",
      "    pcre-8.41                  |    h0a44026_1003         222 KB  conda-forge\n",
      "    pyqt-5.9.2                 |   py27h2a560b1_0         4.4 MB  conda-forge\n",
      "    qt-5.9.7                   |       h93ee506_1        76.7 MB  conda-forge\n",
      "    sip-4.19.8                 |py27h0a44026_1000         252 KB  conda-forge\n",
      "    ------------------------------------------------------------\n",
      "                                           Total:        85.2 MB\n",
      "\n",
      "The following NEW packages will be INSTALLED:\n",
      "\n",
      "  dbus               conda-forge/osx-64::dbus-1.13.6-h2f22bb5_0\n",
      "  glib               conda-forge/osx-64::glib-2.58.3-h2836805_1001\n",
      "  pcre               conda-forge/osx-64::pcre-8.41-h0a44026_1003\n",
      "  pyqt               conda-forge/osx-64::pyqt-5.9.2-py27h2a560b1_0\n",
      "  qt                 conda-forge/osx-64::qt-5.9.7-h93ee506_1\n",
      "  sip                conda-forge/osx-64::sip-4.19.8-py27h0a44026_1000\n",
      "\n",
      "\n",
      "\n",
      "Downloading and Extracting Packages\n",
      "dbus-1.13.6          | 558 KB    | ##################################### | 100% \n",
      "glib-2.58.3          | 3.1 MB    | ##################################### | 100% \n",
      "qt-5.9.7             | 76.7 MB   | ###################6                  |  53% //anaconda/lib/python2.7/site-packages/conda/_vendor/tqdm/_monitor.py:89: TqdmSynchronisationWarning: Set changed size during iteration (see https://github.com/tqdm/tqdm/issues/481)\n",
      "  TqdmSynchronisationWarning)\n",
      "qt-5.9.7             | 76.7 MB   | ##################################### | 100% \n",
      "pyqt-5.9.2           | 4.4 MB    | ##################################### | 100% \n",
      "pcre-8.41            | 222 KB    | ##################################### | 100% \n",
      "sip-4.19.8           | 252 KB    | ##################################### | 100% \n",
      "Preparing transaction: done\n",
      "Verifying transaction: done\n",
      "Executing transaction: done\n"
     ]
    }
   ],
   "source": [
    "import sys\n",
    "#!{sys.executable} -m pip install numpy\n",
    "!conda install --yes --prefix {sys.prefix} pyqt\n",
    "\n"
   ]
  },
  {
   "cell_type": "code",
   "execution_count": 6,
   "metadata": {},
   "outputs": [
    {
     "data": {
      "text/plain": [
       "<open file '/Users/joshtitlow/src/DavidGUI/ana/figures/2105897.jpg', mode 'r' at 0x10f1f04b0>"
      ]
     },
     "execution_count": 6,
     "metadata": {},
     "output_type": "execute_result"
    }
   ],
   "source": [
    "fig_file = ('/Users/joshtitlow/src/DavidGUI/ana/figures/2105897.jpg')\n",
    "open(fig_file)\n"
   ]
  },
  {
   "cell_type": "code",
   "execution_count": 10,
   "metadata": {},
   "outputs": [
    {
     "ename": "ModuleNotFoundError",
     "evalue": "No module named 'pandas'",
     "output_type": "error",
     "traceback": [
      "\u001b[0;31m---------------------------------------------------------------------------\u001b[0m",
      "\u001b[0;31mModuleNotFoundError\u001b[0m                       Traceback (most recent call last)",
      "\u001b[0;32m<ipython-input-10-0cd84560cae4>\u001b[0m in \u001b[0;36m<module>\u001b[0;34m()\u001b[0m\n\u001b[1;32m      1\u001b[0m \u001b[0;32mimport\u001b[0m \u001b[0mnumpy\u001b[0m \u001b[0;32mas\u001b[0m \u001b[0mnp\u001b[0m\u001b[0;34m\u001b[0m\u001b[0;34m\u001b[0m\u001b[0m\n\u001b[0;32m----> 2\u001b[0;31m \u001b[0;32mimport\u001b[0m \u001b[0mpandas\u001b[0m \u001b[0;32mas\u001b[0m \u001b[0mpd\u001b[0m\u001b[0;34m\u001b[0m\u001b[0;34m\u001b[0m\u001b[0m\n\u001b[0m\u001b[1;32m      3\u001b[0m \u001b[0;32mimport\u001b[0m \u001b[0mmatplotlib\u001b[0m\u001b[0;34m.\u001b[0m\u001b[0mpyplot\u001b[0m \u001b[0;32mas\u001b[0m \u001b[0mplt\u001b[0m\u001b[0;34m\u001b[0m\u001b[0;34m\u001b[0m\u001b[0m\n\u001b[1;32m      4\u001b[0m \u001b[0;34m\u001b[0m\u001b[0m\n\u001b[1;32m      5\u001b[0m \u001b[0;34m\u001b[0m\u001b[0m\n",
      "\u001b[0;31mModuleNotFoundError\u001b[0m: No module named 'pandas'"
     ]
    }
   ],
   "source": [
    "import numpy as np\n",
    "import pandas as pd\n",
    "import matplotlib.pyplot as plt\n",
    "\n",
    "\n",
    "test_file = pd.read_csv('codetection_stats.csv', header=0)\n",
    "thresholds = dict.fromkeys(set(test_file['threshold']), 0) \n",
    "\n",
    "for threshold in thresholds.keys():\n",
    "    codetect = []\n",
    "    for index, row in test_file.iterrows(): \n",
    "        if row['threshold'] == threshold:\n",
    "            codetect.append(row['co_detect'])\n",
    "    mean_codetect = np.mean(codetect)\n",
    "    thresholds.update({threshold: mean_codetect})\n",
    "\n",
    "print (thresholds)\n",
    "#plt.plot(list(thresholds),list(thresholds.values()))\n",
    "#plt.ylabel('some numbers')\n",
    "#plt.show()"
   ]
  },
  {
   "cell_type": "code",
   "execution_count": 34,
   "metadata": {},
   "outputs": [
    {
     "data": {
      "image/png": "[encoded data removed]",
      "text/plain": [
       "<Figure size 432x288 with 1 Axes>"
      ]
     },
     "metadata": {
      "needs_background": "light"
     },
     "output_type": "display_data"
    }
   ],
   "source": [
    "import matplotlib.pyplot as plt\n",
    "import collections\n",
    "\n",
    "thresholds = {200:0.13382795187882354, 2000:13.649713966372472, 20000: 75.58820427887294, 200000: 100.0}\n",
    "random_thresholds = {200: 0.010495166321788237, 2000: 8.391300996998295, 20000: 79.58979494157295, 200000: 100.0}\n",
    "fig, ax = plt.subplots()\n",
    "\n",
    "#plt.plot( 'x', 'y1', data=df, marker='o', markerfacecolor='blue', markersize=12, color='skyblue', linewidth=4)\n",
    "\n",
    "ax.semilogx(list(thresholds), list(thresholds.values()), color = 'red')\n",
    "ax.semilogx(list(random_thresholds), list(random_thresholds.values()), color = 'black')\n",
    "#plt.plot(list(thresholds), list(thresholds.values()))\n",
    "plt.ylabel('% of transcripts')\n",
    "plt.xlabel('nearest neighbor distance (um)')\n",
    "plt.show()"
   ]
  },
  {
   "cell_type": "code",
   "execution_count": 4,
   "metadata": {},
   "outputs": [],
   "source": [
    "thresholds = {200: 0.13382795187882354, 2000: 13.649713966372472, 200000: 100.0, 20000: 75.58820427887294}"
   ]
  },
  {
   "cell_type": "code",
   "execution_count": 36,
   "metadata": {},
   "outputs": [
    {
     "data": {
      "text/plain": [
       "array([[0.79266327, 0.0767705 ],\n",
       "       [0.24394331, 0.53484753],\n",
       "       [0.20680069, 0.0228853 ]])"
      ]
     },
     "execution_count": 36,
     "metadata": {},
     "output_type": "execute_result"
    }
   ],
   "source": [
    "\n",
    "np.random.rand(3,2)"
   ]
  },
  {
   "cell_type": "code",
   "execution_count": 2,
   "metadata": {},
   "outputs": [
    {
     "ename": "ModuleNotFoundError",
     "evalue": "No module named 'pandas'",
     "output_type": "error",
     "traceback": [
      "\u001b[0;31m---------------------------------------------------------------------------\u001b[0m",
      "\u001b[0;31mModuleNotFoundError\u001b[0m                       Traceback (most recent call last)",
      "\u001b[0;32m<ipython-input-2-939a70fd4aa8>\u001b[0m in \u001b[0;36m<module>\u001b[0;34m()\u001b[0m\n\u001b[1;32m      1\u001b[0m \u001b[0;32mimport\u001b[0m \u001b[0mnumpy\u001b[0m \u001b[0;32mas\u001b[0m \u001b[0mnp\u001b[0m\u001b[0;34m\u001b[0m\u001b[0;34m\u001b[0m\u001b[0m\n\u001b[0;32m----> 2\u001b[0;31m \u001b[0;32mimport\u001b[0m \u001b[0mpandas\u001b[0m \u001b[0;32mas\u001b[0m \u001b[0mpd\u001b[0m\u001b[0;34m\u001b[0m\u001b[0;34m\u001b[0m\u001b[0m\n\u001b[0m\u001b[1;32m      3\u001b[0m \u001b[0;32mimport\u001b[0m \u001b[0mmatplotlib\u001b[0m\u001b[0;34m.\u001b[0m\u001b[0mpyplot\u001b[0m \u001b[0;32mas\u001b[0m \u001b[0mplt\u001b[0m\u001b[0;34m\u001b[0m\u001b[0;34m\u001b[0m\u001b[0m\n\u001b[1;32m      4\u001b[0m \u001b[0;34m\u001b[0m\u001b[0m\n\u001b[1;32m      5\u001b[0m \u001b[0mtest_file\u001b[0m \u001b[0;34m=\u001b[0m \u001b[0mpd\u001b[0m\u001b[0;34m.\u001b[0m\u001b[0mread_csv\u001b[0m\u001b[0;34m(\u001b[0m\u001b[0;34m'codetection_stats.csv'\u001b[0m\u001b[0;34m,\u001b[0m \u001b[0mheader\u001b[0m\u001b[0;34m=\u001b[0m\u001b[0;36m0\u001b[0m\u001b[0;34m)\u001b[0m\u001b[0;34m\u001b[0m\u001b[0;34m\u001b[0m\u001b[0m\n",
      "\u001b[0;31mModuleNotFoundError\u001b[0m: No module named 'pandas'"
     ]
    }
   ],
   "source": [
    "import numpy as np\n",
    "import pandas as pd\n",
    "import matplotlib.pyplot as plt\n",
    "\n",
    "test_file = pd.read_csv('codetection_stats.csv', header=0)\n",
    "thresholds = dict.fromkeys(set(test_file['threshold']), 0) \n",
    "\n",
    "for threshold in thresholds.keys():\n",
    "    codetect = []\n",
    "    for index, row in test_file.iterrows(): \n",
    "        if row['threshold'] == threshold:\n",
    "            codetect.append(row['co_detect'])\n",
    "    mean_codetect = np.mean(codetect)\n",
    "    thresholds.update({threshold: mean_codetect})\n",
    "\n",
    "\n",
    "plt.plot(list(thresholds),list(thresholds.values()))\n",
    "plt.ylabel('some numbers')\n",
    "plt.show()"
   ]
  },
  {
   "cell_type": "code",
   "execution_count": 40,
   "metadata": {},
   "outputs": [
    {
     "name": "stdout",
     "output_type": "stream",
     "text": [
      "(5, 3)\n"
     ]
    },
    {
     "ename": "TypeError",
     "evalue": "'tuple' object cannot be interpreted as an integer",
     "output_type": "error",
     "traceback": [
      "\u001b[0;31m---------------------------------------------------------------------------\u001b[0m",
      "\u001b[0;31mTypeError\u001b[0m                                 Traceback (most recent call last)",
      "\u001b[0;32m<ipython-input-40-526e71616310>\u001b[0m in \u001b[0;36m<module>\u001b[0;34m()\u001b[0m\n\u001b[1;32m      5\u001b[0m \u001b[0mtarget_df\u001b[0m \u001b[0;34m=\u001b[0m \u001b[0mnp\u001b[0m\u001b[0;34m.\u001b[0m\u001b[0mcolumn_stack\u001b[0m\u001b[0;34m(\u001b[0m\u001b[0;34m(\u001b[0m\u001b[0mxpos_targ\u001b[0m\u001b[0;34m,\u001b[0m\u001b[0mypos_targ\u001b[0m\u001b[0;34m,\u001b[0m\u001b[0mzpos_targ\u001b[0m\u001b[0;34m)\u001b[0m\u001b[0;34m)\u001b[0m\u001b[0;34m\u001b[0m\u001b[0;34m\u001b[0m\u001b[0m\n\u001b[1;32m      6\u001b[0m \u001b[0mprint\u001b[0m \u001b[0;34m(\u001b[0m\u001b[0mtarget_df\u001b[0m\u001b[0;34m.\u001b[0m\u001b[0mshape\u001b[0m\u001b[0;34m)\u001b[0m\u001b[0;34m\u001b[0m\u001b[0;34m\u001b[0m\u001b[0m\n\u001b[0;32m----> 7\u001b[0;31m \u001b[0mnp\u001b[0m\u001b[0;34m.\u001b[0m\u001b[0mrandom\u001b[0m\u001b[0;34m.\u001b[0m\u001b[0mrand\u001b[0m\u001b[0;34m(\u001b[0m\u001b[0mtarget_df\u001b[0m\u001b[0;34m.\u001b[0m\u001b[0mshape\u001b[0m\u001b[0;34m)\u001b[0m\u001b[0;34m\u001b[0m\u001b[0;34m\u001b[0m\u001b[0m\n\u001b[0m\u001b[1;32m      8\u001b[0m \u001b[0mprint\u001b[0m \u001b[0;34m(\u001b[0m\u001b[0mtarget_df\u001b[0m\u001b[0;34m)\u001b[0m\u001b[0;34m\u001b[0m\u001b[0;34m\u001b[0m\u001b[0m\n\u001b[1;32m      9\u001b[0m \u001b[0mnp\u001b[0m\u001b[0;34m.\u001b[0m\u001b[0mrandom\u001b[0m\u001b[0;34m.\u001b[0m\u001b[0mshuffle\u001b[0m\u001b[0;34m(\u001b[0m\u001b[0mtarget_df\u001b[0m\u001b[0;34m)\u001b[0m\u001b[0;34m\u001b[0m\u001b[0;34m\u001b[0m\u001b[0m\n",
      "\u001b[0;32mmtrand.pyx\u001b[0m in \u001b[0;36mmtrand.RandomState.rand\u001b[0;34m()\u001b[0m\n",
      "\u001b[0;32mmtrand.pyx\u001b[0m in \u001b[0;36mmtrand.RandomState.random_sample\u001b[0;34m()\u001b[0m\n",
      "\u001b[0;32mmtrand.pyx\u001b[0m in \u001b[0;36mmtrand.cont0_array\u001b[0;34m()\u001b[0m\n",
      "\u001b[0;31mTypeError\u001b[0m: 'tuple' object cannot be interpreted as an integer"
     ]
    }
   ],
   "source": [
    "import numpy as np\n",
    "xpos_targ = [1,2,3,4,5]\n",
    "ypos_targ = [5,4,3,2,1]\n",
    "zpos_targ = [1,3,5,2,4]\n",
    "target_df = np.column_stack((xpos_targ,ypos_targ,zpos_targ))\n",
    "print (target_df.shape)\n",
    "np.random.rand(target_df.shape)\n",
    "print (target_df)\n",
    "np.random.shuffle(target_df)\n",
    "print (target_df)\n",
    "print (random)"
   ]
  },
  {
   "cell_type": "code",
   "execution_count": null,
   "metadata": {},
   "outputs": [],
   "source": []
  },
  {
   "cell_type": "code",
   "execution_count": null,
   "metadata": {},
   "outputs": [],
   "source": []
  }
 ],
 "metadata": {
  "kernelspec": {
   "display_name": "chromagnon",
   "language": "python",
   "name": "chromagnon"
  },
  "language_info": {
   "codemirror_mode": {
    "name": "ipython",
    "version": 3
   },
   "file_extension": ".py",
   "mimetype": "text/x-python",
   "name": "python",
   "nbconvert_exporter": "python",
   "pygments_lexer": "ipython3",
   "version": "3.6.7"
  }
 },
 "nbformat": 4,
 "nbformat_minor": 2
}
