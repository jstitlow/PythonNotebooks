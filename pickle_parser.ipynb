{
 "cells": [
  {
   "cell_type": "code",
   "execution_count": 3,
   "metadata": {},
   "outputs": [],
   "source": [
    "import pickle\n",
    "import subprocess\n",
    "import os\n",
    "import pandas as pd\n",
    "\n",
    "indir = '/Users/joshtitlow/src/DavidGUI/josh/'\n",
    "infiles = os.listdir(os.path.join(indir, 'answers/'))\n",
    "\n",
    "figure_list = []\n",
    "\n",
    "for file in infiles:\n",
    "    if file.endswith('.pickle'):\n",
    "        figure_list.append(file[:-7])\n",
    "    \n",
    "d = {}\n",
    "\n",
    "for figure in figure_list:\n",
    "    thisfile = os.path.join(indir, 'answers/', str(figure)+'.pickle')\n",
    "    try:\n",
    "        with open(thisfile, 'rb') as f:\n",
    "            p = pickle.load(f)\n",
    "            d[figure] = p\n",
    "    except:\n",
    "        pass\n",
    "\n",
    "df = pd.DataFrame.from_dict(d, orient =  'index')\n",
    "df.to_csv(os.path.join(indir, 'answers', 'CB_questionnaire_results.csv'))"
   ]
  },
  {
   "cell_type": "code",
   "execution_count": 124,
   "metadata": {},
   "outputs": [],
   "source": [
    "left = pd.read_csv(os.path.join(indir, 'answers', 'questionnaire_results.csv'))\n",
    "merge = left.merge(zegami_ref_file, how='inner')\n",
    "merge.head()\n",
    "merge.to_csv(os.path.join(indir, 'answers', 'PSD_results.csv'))"
   ]
  },
  {
   "cell_type": "code",
   "execution_count": 16,
   "metadata": {},
   "outputs": [
    {
     "data": {
      "text/plain": [
       "['Is protein in granules?']"
      ]
     },
     "execution_count": 16,
     "metadata": {},
     "output_type": "execute_result"
    }
   ],
   "source": [
    "list(df.columns) "
   ]
  },
  {
   "cell_type": "code",
   "execution_count": null,
   "metadata": {},
   "outputs": [],
   "source": [
    "import platform\n",
    "print(platform.python_version())"
   ]
  },
  {
   "cell_type": "code",
   "execution_count": 26,
   "metadata": {},
   "outputs": [],
   "source": [
    "import pandas as pd\n",
    "indir = '/Users/joshtitlow/src/DavidGUI/josh/'\n",
    "left = pd.read_csv('/Users/joshtitlow/src/DavidGUI/josh/zegami.tsv.tsv', sep='\\t')\n",
    "right = pd.read_csv('/Users/joshtitlow/src/DavidGUI/josh/answers/questionnaire_results.csv')\n",
    "\n",
    "merge = right.merge(left, how='inner')\n",
    "merge.head()\n",
    "merge.to_csv(os.path.join(indir, 'full_questionnaire_results2.csv'))\n",
    "    "
   ]
  },
  {
   "cell_type": "code",
   "execution_count": null,
   "metadata": {},
   "outputs": [],
   "source": [
    "#Archive\n",
    "import pickle\n",
    "import subprocess\n",
    "import os\n",
    "import pandas as pd\n",
    "\n",
    "figure_list = pd.read_csv('/Users/joshtitlow/src/DavidGUI/ana/figures/zegami.csv')\n",
    "indir = '/Users/joshtitlow/src/DavidGUI/ana/answers/'\n",
    "infiles = os.listdir(indir)\n",
    "zegami_ref_file = pd.read_csv('/Users/joshtitlow/src/DavidGUI/josh/zegami.tsv', sep='\\t')\n",
    "\n",
    "d = {}\n",
    "\n",
    "for index, row in figure_list.iterrows():\n",
    "    figure =row['figure_id']\n",
    "    thisfile = os.path.join(indir, str(figure)+'.pickle')\n",
    "    with open(thisfile, 'rb') as f:\n",
    "        p = pickle.load(f)\n",
    "        #print('thispickle', p)\n",
    "        d[figure] = p\n",
    "\n",
    "#print(d)\n",
    "df = pd.DataFrame.from_dict(d, orient =  'index')\n",
    "df.to_csv('questionnaire_results.csv')\n",
    "print(df)"
   ]
  }
 ],
 "metadata": {
  "kernelspec": {
   "display_name": "Python [default]",
   "language": "python",
   "name": "python2"
  },
  "language_info": {
   "codemirror_mode": {
    "name": "ipython",
    "version": 2
   },
   "file_extension": ".py",
   "mimetype": "text/x-python",
   "name": "python",
   "nbconvert_exporter": "python",
   "pygments_lexer": "ipython2",
   "version": "2.7.3"
  }
 },
 "nbformat": 4,
 "nbformat_minor": 2
}
