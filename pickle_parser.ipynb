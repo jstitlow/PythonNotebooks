{
 "cells": [
  {
   "cell_type": "code",
   "execution_count": 341,
   "metadata": {},
   "outputs": [],
   "source": [
    "import pickle\n",
    "import subprocess\n",
    "import os\n",
    "import pandas as pd\n",
    "\n",
    "indir = '/Users/joshtitlow/src/DavidGUI/josh/'\n",
    "infiles = os.listdir(os.path.join(indir, 'answers/'))\n",
    "\n",
    "figure_list = []\n",
    "\n",
    "for file in infiles:\n",
    "    if file.endswith('.pickle'):\n",
    "        figure_list.append(file[:-7])\n",
    "    \n",
    "d = {}\n",
    "\n",
    "for figure in figure_list:\n",
    "    thisfile = os.path.join(indir, 'answers/', str(figure)+'.pickle')\n",
    "    try:\n",
    "        with open(thisfile, 'rb') as f:\n",
    "            p = pickle.load(f)\n",
    "            #some modifications to deal with the new pickle format\n",
    "            col_names = [x[0] for x in p]\n",
    "            d[figure] = [x[1] for x in p]\n",
    "            d[figure] = p\n",
    "    except:\n",
    "        pass\n",
    "\n",
    "\n",
    "df = pd.DataFrame.from_dict(d, orient = 'index', columns = col_names)\n",
    "df.to_csv(os.path.join(indir, 'answers', 'CB_questionnaire_results.csv'))"
   ]
  },
  {
   "cell_type": "code",
   "execution_count": null,
   "metadata": {},
   "outputs": [],
   "source": [
    "#Archive\n",
    "import pickle\n",
    "import subprocess\n",
    "import os\n",
    "import pandas as pd\n",
    "\n",
    "figure_list = pd.read_csv('/Users/joshtitlow/src/DavidGUI/ana/figures/zegami.csv')\n",
    "indir = '/Users/joshtitlow/src/DavidGUI/ana/answers/'\n",
    "infiles = os.listdir(indir)\n",
    "zegami_ref_file = pd.read_csv('/Users/joshtitlow/src/DavidGUI/josh/zegami.tsv', sep='\\t')\n",
    "\n",
    "d = {}\n",
    "\n",
    "for index, row in figure_list.iterrows():\n",
    "    figure =row['figure_id']\n",
    "    thisfile = os.path.join(indir, str(figure)+'.pickle')\n",
    "    with open(thisfile, 'rb') as f:\n",
    "        p = pickle.load(f)\n",
    "        #print('thispickle', p)\n",
    "        d[figure] = p\n",
    "\n",
    "df = pd.DataFrame.from_dict(d, orient =  'index')\n",
    "df.to_csv('questionnaire_results.csv')"
   ]
  }
 ],
 "metadata": {
  "kernelspec": {
   "display_name": "Python [conda env:py38]",
   "language": "python",
   "name": "conda-env-py38-py"
  },
  "language_info": {
   "codemirror_mode": {
    "name": "ipython",
    "version": 3
   },
   "file_extension": ".py",
   "mimetype": "text/x-python",
   "name": "python",
   "nbconvert_exporter": "python",
   "pygments_lexer": "ipython3",
   "version": "3.8.1"
  }
 },
 "nbformat": 4,
 "nbformat_minor": 2
}
